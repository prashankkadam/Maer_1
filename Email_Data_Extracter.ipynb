{
  "nbformat": 4,
  "nbformat_minor": 0,
  "metadata": {
    "colab": {
      "name": "Email_Data_Extracter.ipynb",
      "version": "0.3.2",
      "provenance": [],
      "collapsed_sections": [],
      "include_colab_link": true
    },
    "kernelspec": {
      "name": "python3",
      "display_name": "Python 3"
    }
  },
  "cells": [
    {
      "cell_type": "markdown",
      "metadata": {
        "id": "view-in-github",
        "colab_type": "text"
      },
      "source": [
        "<a href=\"https://colab.research.google.com/github/prashankkadam/Maer_1/blob/master/Email_Data_Extracter.ipynb\" target=\"_parent\"><img src=\"https://colab.research.google.com/assets/colab-badge.svg\" alt=\"Open In Colab\"/></a>"
      ]
    },
    {
      "cell_type": "markdown",
      "metadata": {
        "id": "auNig78vR6nd",
        "colab_type": "text"
      },
      "source": [
        "### **Importing the required libraries**"
      ]
    },
    {
      "cell_type": "code",
      "metadata": {
        "id": "nLwy9hYnR3Ry",
        "colab_type": "code",
        "colab": {}
      },
      "source": [
        "import pandas as pd\n",
        "import numpy as np\n",
        "import seaborn as sns\n",
        "import matplotlib.pyplot as plt\n",
        "import io"
      ],
      "execution_count": 0,
      "outputs": []
    },
    {
      "cell_type": "markdown",
      "metadata": {
        "id": "Nzhc0xiQSKIy",
        "colab_type": "text"
      },
      "source": [
        "### **Uploading the excel file**"
      ]
    },
    {
      "cell_type": "code",
      "metadata": {
        "id": "3zVes0bdSQsf",
        "colab_type": "code",
        "colab": {
          "resources": {
            "http://localhost:8080/nbextensions/google.colab/files.js": {
              "data": "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",
              "ok": true,
              "headers": [
                [
                  "content-type",
                  "application/javascript"
                ]
              ],
              "status": 200,
              "status_text": "OK"
            }
          },
          "base_uri": "https://localhost:8080/",
          "height": 74
        },
        "outputId": "065a8c77-32a2-42aa-bc49-4cd750d6ad5d"
      },
      "source": [
        "from google.colab import files\n",
        "uploaded = files.upload()"
      ],
      "execution_count": 2,
      "outputs": [
        {
          "output_type": "display_data",
          "data": {
            "text/html": [
              "\n",
              "     <input type=\"file\" id=\"files-9cca3960-bb68-4321-ade9-40ea91989e6c\" name=\"files[]\" multiple disabled />\n",
              "     <output id=\"result-9cca3960-bb68-4321-ade9-40ea91989e6c\">\n",
              "      Upload widget is only available when the cell has been executed in the\n",
              "      current browser session. Please rerun this cell to enable.\n",
              "      </output>\n",
              "      <script src=\"/nbextensions/google.colab/files.js\"></script> "
            ],
            "text/plain": [
              "<IPython.core.display.HTML object>"
            ]
          },
          "metadata": {
            "tags": []
          }
        },
        {
          "output_type": "stream",
          "text": [
            "Saving static_cons_test.xls to static_cons_test.xls\n"
          ],
          "name": "stdout"
        }
      ]
    },
    {
      "cell_type": "markdown",
      "metadata": {
        "id": "PFv3ezJnTADq",
        "colab_type": "text"
      },
      "source": [
        "### **Creating a dataframe**"
      ]
    },
    {
      "cell_type": "code",
      "metadata": {
        "id": "el2ndixASi2D",
        "colab_type": "code",
        "colab": {}
      },
      "source": [
        "static_df = pd.read_excel(io.BytesIO(uploaded['static_cons_test.xls']))"
      ],
      "execution_count": 0,
      "outputs": []
    },
    {
      "cell_type": "code",
      "metadata": {
        "id": "fdPgQ-ygTKQ3",
        "colab_type": "code",
        "colab": {
          "base_uri": "https://localhost:8080/",
          "height": 797
        },
        "outputId": "2c4cf1c5-e6a0-4619-88f4-4cae93228d5e"
      },
      "source": [
        "static_df.head(25)"
      ],
      "execution_count": 9,
      "outputs": [
        {
          "output_type": "execute_result",
          "data": {
            "text/html": [
              "<div>\n",
              "<style scoped>\n",
              "    .dataframe tbody tr th:only-of-type {\n",
              "        vertical-align: middle;\n",
              "    }\n",
              "\n",
              "    .dataframe tbody tr th {\n",
              "        vertical-align: top;\n",
              "    }\n",
              "\n",
              "    .dataframe thead th {\n",
              "        text-align: right;\n",
              "    }\n",
              "</style>\n",
              "<table border=\"1\" class=\"dataframe\">\n",
              "  <thead>\n",
              "    <tr style=\"text-align: right;\">\n",
              "      <th></th>\n",
              "      <th>To be forwarded to fueloptmt@maersk.com when completely filled in</th>\n",
              "      <th>Unnamed: 1</th>\n",
              "      <th>Unnamed: 2</th>\n",
              "      <th>Unnamed: 3</th>\n",
              "    </tr>\n",
              "  </thead>\n",
              "  <tbody>\n",
              "    <tr>\n",
              "      <th>0</th>\n",
              "      <td>Please fill in the yellow fields only.</td>\n",
              "      <td>NaN</td>\n",
              "      <td>NaN</td>\n",
              "      <td>NaN</td>\n",
              "    </tr>\n",
              "    <tr>\n",
              "      <th>1</th>\n",
              "      <td>NaN</td>\n",
              "      <td>NaN</td>\n",
              "      <td>NaN</td>\n",
              "      <td>NaN</td>\n",
              "    </tr>\n",
              "    <tr>\n",
              "      <th>2</th>\n",
              "      <td>Vessel name</td>\n",
              "      <td>Bro Atland</td>\n",
              "      <td>NaN</td>\n",
              "      <td>NaN</td>\n",
              "    </tr>\n",
              "    <tr>\n",
              "      <th>3</th>\n",
              "      <td>IMO no</td>\n",
              "      <td>9160932</td>\n",
              "      <td>NaN</td>\n",
              "      <td>NaN</td>\n",
              "    </tr>\n",
              "    <tr>\n",
              "      <th>4</th>\n",
              "      <td>NaN</td>\n",
              "      <td>NaN</td>\n",
              "      <td>NaN</td>\n",
              "      <td>NaN</td>\n",
              "    </tr>\n",
              "    <tr>\n",
              "      <th>5</th>\n",
              "      <td>Static Fuel consumption from vessel experience</td>\n",
              "      <td>NaN</td>\n",
              "      <td>NaN</td>\n",
              "      <td>NaN</td>\n",
              "    </tr>\n",
              "    <tr>\n",
              "      <th>6</th>\n",
              "      <td>Fuel consumption Idle at anchorage/drifting</td>\n",
              "      <td>NaN</td>\n",
              "      <td>mt HFO / 24 Hour</td>\n",
              "      <td>mt MDO / 24 Hour</td>\n",
              "    </tr>\n",
              "    <tr>\n",
              "      <th>7</th>\n",
              "      <td>Auxillary Engine</td>\n",
              "      <td>NaN</td>\n",
              "      <td>0</td>\n",
              "      <td>1.4</td>\n",
              "    </tr>\n",
              "    <tr>\n",
              "      <th>8</th>\n",
              "      <td>Boiler</td>\n",
              "      <td>NaN</td>\n",
              "      <td>0</td>\n",
              "      <td>0.5</td>\n",
              "    </tr>\n",
              "    <tr>\n",
              "      <th>9</th>\n",
              "      <td>Total Fuel consumption in Port Loading  (full ...</td>\n",
              "      <td>NaN</td>\n",
              "      <td>mt HFO</td>\n",
              "      <td>mt MDO</td>\n",
              "    </tr>\n",
              "    <tr>\n",
              "      <th>10</th>\n",
              "      <td>Auxillary Engine</td>\n",
              "      <td>NaN</td>\n",
              "      <td>0</td>\n",
              "      <td>2.2</td>\n",
              "    </tr>\n",
              "    <tr>\n",
              "      <th>11</th>\n",
              "      <td>Boiler</td>\n",
              "      <td>NaN</td>\n",
              "      <td>0</td>\n",
              "      <td>0.5</td>\n",
              "    </tr>\n",
              "    <tr>\n",
              "      <th>12</th>\n",
              "      <td>Total Fuel consumption in Port Discharge (full...</td>\n",
              "      <td>NaN</td>\n",
              "      <td>mt HFO</td>\n",
              "      <td>mt MDO</td>\n",
              "    </tr>\n",
              "    <tr>\n",
              "      <th>13</th>\n",
              "      <td>Auxillary Engine</td>\n",
              "      <td>NaN</td>\n",
              "      <td>0</td>\n",
              "      <td>4.2</td>\n",
              "    </tr>\n",
              "    <tr>\n",
              "      <th>14</th>\n",
              "      <td>Boiler</td>\n",
              "      <td>NaN</td>\n",
              "      <td>0</td>\n",
              "      <td>0.5</td>\n",
              "    </tr>\n",
              "    <tr>\n",
              "      <th>15</th>\n",
              "      <td>Inertgas generator</td>\n",
              "      <td>NaN</td>\n",
              "      <td>0</td>\n",
              "      <td>NaN</td>\n",
              "    </tr>\n",
              "    <tr>\n",
              "      <th>16</th>\n",
              "      <td>Fuel consumption for a Full Inerting</td>\n",
              "      <td>NaN</td>\n",
              "      <td>mt HFO</td>\n",
              "      <td>mt MDO</td>\n",
              "    </tr>\n",
              "    <tr>\n",
              "      <th>17</th>\n",
              "      <td>Auxillary Engine</td>\n",
              "      <td>NaN</td>\n",
              "      <td>0</td>\n",
              "      <td>NaN</td>\n",
              "    </tr>\n",
              "    <tr>\n",
              "      <th>18</th>\n",
              "      <td>Boiler</td>\n",
              "      <td>NaN</td>\n",
              "      <td>0</td>\n",
              "      <td>NaN</td>\n",
              "    </tr>\n",
              "    <tr>\n",
              "      <th>19</th>\n",
              "      <td>Inertgas generator</td>\n",
              "      <td>NaN</td>\n",
              "      <td>0</td>\n",
              "      <td>NaN</td>\n",
              "    </tr>\n",
              "    <tr>\n",
              "      <th>20</th>\n",
              "      <td>Fuel consumption for a Full Gas freeing</td>\n",
              "      <td>NaN</td>\n",
              "      <td>mt HFO</td>\n",
              "      <td>mt MDO</td>\n",
              "    </tr>\n",
              "    <tr>\n",
              "      <th>21</th>\n",
              "      <td>Auxillary Engine</td>\n",
              "      <td>NaN</td>\n",
              "      <td>0</td>\n",
              "      <td>NaN</td>\n",
              "    </tr>\n",
              "    <tr>\n",
              "      <th>22</th>\n",
              "      <td>Boiler</td>\n",
              "      <td>NaN</td>\n",
              "      <td>0</td>\n",
              "      <td>NaN</td>\n",
              "    </tr>\n",
              "    <tr>\n",
              "      <th>23</th>\n",
              "      <td>Inertgas generator</td>\n",
              "      <td>NaN</td>\n",
              "      <td>0</td>\n",
              "      <td>NaN</td>\n",
              "    </tr>\n",
              "    <tr>\n",
              "      <th>24</th>\n",
              "      <td>Fuel consumption for Heating to maintain 57 de...</td>\n",
              "      <td>NaN</td>\n",
              "      <td>mt HFO</td>\n",
              "      <td>mt MDO</td>\n",
              "    </tr>\n",
              "  </tbody>\n",
              "</table>\n",
              "</div>"
            ],
            "text/plain": [
              "   To be forwarded to fueloptmt@maersk.com when completely filled in  ...        Unnamed: 3\n",
              "0             Please fill in the yellow fields only.                  ...               NaN\n",
              "1                                                 NaN                 ...               NaN\n",
              "2                                         Vessel name                 ...               NaN\n",
              "3                                              IMO no                 ...               NaN\n",
              "4                                                 NaN                 ...               NaN\n",
              "5      Static Fuel consumption from vessel experience                 ...               NaN\n",
              "6         Fuel consumption Idle at anchorage/drifting                 ...  mt MDO / 24 Hour\n",
              "7                                    Auxillary Engine                 ...               1.4\n",
              "8                                              Boiler                 ...               0.5\n",
              "9   Total Fuel consumption in Port Loading  (full ...                 ...            mt MDO\n",
              "10                                   Auxillary Engine                 ...               2.2\n",
              "11                                             Boiler                 ...               0.5\n",
              "12  Total Fuel consumption in Port Discharge (full...                 ...            mt MDO\n",
              "13                                   Auxillary Engine                 ...               4.2\n",
              "14                                             Boiler                 ...               0.5\n",
              "15                                 Inertgas generator                 ...               NaN\n",
              "16               Fuel consumption for a Full Inerting                 ...            mt MDO\n",
              "17                                   Auxillary Engine                 ...               NaN\n",
              "18                                             Boiler                 ...               NaN\n",
              "19                                 Inertgas generator                 ...               NaN\n",
              "20            Fuel consumption for a Full Gas freeing                 ...            mt MDO\n",
              "21                                   Auxillary Engine                 ...               NaN\n",
              "22                                             Boiler                 ...               NaN\n",
              "23                                 Inertgas generator                 ...               NaN\n",
              "24  Fuel consumption for Heating to maintain 57 de...                 ...            mt MDO\n",
              "\n",
              "[25 rows x 4 columns]"
            ]
          },
          "metadata": {
            "tags": []
          },
          "execution_count": 9
        }
      ]
    },
    {
      "cell_type": "code",
      "metadata": {
        "id": "yisrjKB7TNMn",
        "colab_type": "code",
        "colab": {
          "base_uri": "https://localhost:8080/",
          "height": 176
        },
        "outputId": "bf2a2588-b577-4748-8e38-7646fa427ad0"
      },
      "source": [
        "static_df.info()"
      ],
      "execution_count": 8,
      "outputs": [
        {
          "output_type": "stream",
          "text": [
            "<class 'pandas.core.frame.DataFrame'>\n",
            "RangeIndex: 89 entries, 0 to 88\n",
            "Data columns (total 4 columns):\n",
            "To be forwarded to fueloptmt@maersk.com when completely filled in    68 non-null object\n",
            "Unnamed: 1                                                           7 non-null object\n",
            "Unnamed: 2                                                           31 non-null object\n",
            "Unnamed: 3                                                           40 non-null object\n",
            "dtypes: object(4)\n",
            "memory usage: 2.9+ KB\n"
          ],
          "name": "stdout"
        }
      ]
    },
    {
      "cell_type": "code",
      "metadata": {
        "id": "MbB55XcwTsUl",
        "colab_type": "code",
        "colab": {}
      },
      "source": [
        "static_df.columns = ['Key', 'Value_1', 'Value_2', 'Value_3']"
      ],
      "execution_count": 0,
      "outputs": []
    },
    {
      "cell_type": "code",
      "metadata": {
        "id": "mPa5ZWR6UkWX",
        "colab_type": "code",
        "colab": {
          "base_uri": "https://localhost:8080/",
          "height": 197
        },
        "outputId": "eaf35dfb-c814-4a2f-a704-0dc845a37497"
      },
      "source": [
        "static_df.head(5)"
      ],
      "execution_count": 12,
      "outputs": [
        {
          "output_type": "execute_result",
          "data": {
            "text/html": [
              "<div>\n",
              "<style scoped>\n",
              "    .dataframe tbody tr th:only-of-type {\n",
              "        vertical-align: middle;\n",
              "    }\n",
              "\n",
              "    .dataframe tbody tr th {\n",
              "        vertical-align: top;\n",
              "    }\n",
              "\n",
              "    .dataframe thead th {\n",
              "        text-align: right;\n",
              "    }\n",
              "</style>\n",
              "<table border=\"1\" class=\"dataframe\">\n",
              "  <thead>\n",
              "    <tr style=\"text-align: right;\">\n",
              "      <th></th>\n",
              "      <th>Key</th>\n",
              "      <th>Value_1</th>\n",
              "      <th>Value_2</th>\n",
              "      <th>Value_3</th>\n",
              "    </tr>\n",
              "  </thead>\n",
              "  <tbody>\n",
              "    <tr>\n",
              "      <th>0</th>\n",
              "      <td>Please fill in the yellow fields only.</td>\n",
              "      <td>NaN</td>\n",
              "      <td>NaN</td>\n",
              "      <td>NaN</td>\n",
              "    </tr>\n",
              "    <tr>\n",
              "      <th>1</th>\n",
              "      <td>NaN</td>\n",
              "      <td>NaN</td>\n",
              "      <td>NaN</td>\n",
              "      <td>NaN</td>\n",
              "    </tr>\n",
              "    <tr>\n",
              "      <th>2</th>\n",
              "      <td>Vessel name</td>\n",
              "      <td>Bro Atland</td>\n",
              "      <td>NaN</td>\n",
              "      <td>NaN</td>\n",
              "    </tr>\n",
              "    <tr>\n",
              "      <th>3</th>\n",
              "      <td>IMO no</td>\n",
              "      <td>9160932</td>\n",
              "      <td>NaN</td>\n",
              "      <td>NaN</td>\n",
              "    </tr>\n",
              "    <tr>\n",
              "      <th>4</th>\n",
              "      <td>NaN</td>\n",
              "      <td>NaN</td>\n",
              "      <td>NaN</td>\n",
              "      <td>NaN</td>\n",
              "    </tr>\n",
              "  </tbody>\n",
              "</table>\n",
              "</div>"
            ],
            "text/plain": [
              "                                       Key      Value_1 Value_2 Value_3\n",
              "0  Please fill in the yellow fields only.           NaN     NaN     NaN\n",
              "1                                      NaN          NaN     NaN     NaN\n",
              "2                              Vessel name  Bro Atland      NaN     NaN\n",
              "3                                   IMO no      9160932     NaN     NaN\n",
              "4                                      NaN          NaN     NaN     NaN"
            ]
          },
          "metadata": {
            "tags": []
          },
          "execution_count": 12
        }
      ]
    },
    {
      "cell_type": "markdown",
      "metadata": {
        "id": "BGwGlQGz8H-N",
        "colab_type": "text"
      },
      "source": [
        "### **Looping on the dataframe to extract the necessary data in a single iterary cycle of the dataframe**"
      ]
    },
    {
      "cell_type": "code",
      "metadata": {
        "id": "CHt5Rw-FVhv1",
        "colab_type": "code",
        "colab": {}
      },
      "source": [
        "# Declaring flags \n",
        "c1, c2, c3, c4, c5, c6, c7, c8, c9, c10, c11, c12, c13, c14, c15, c16 = 0, 0, 0, 0 ,0 ,0, 0, 0, 0, 0, 0, 0, 0, 0, 0, 0\n",
        "\n",
        "# Looping over the dataframe\n",
        "for index, row in static_df.iterrows():\n",
        "  \n",
        "  # Checking for the vessel name in the dataframe key\n",
        "  if row['Key'] == 'Vessel name':\n",
        "    # Assigning the vessel name to a local variable\n",
        "    vessel_name = row['Value_1']\n",
        "  \n",
        "  # Checking the fuel consumption at Idle anchorage/drifting \n",
        "  if 'Idle' in str(row['Key']):\n",
        "    continue\n",
        "  # Assigning the auxillary consumption(HFO/MDO) to local variables\n",
        "  if c1 == 0 and row['Key'] == 'Auxillary Engine':  \n",
        "    Idle_aux_HFO = row['Value_2']\n",
        "    Idle_aux_MDO = row['Value_3']\n",
        "    c1 = 1\n",
        "    continue    \n",
        "  # Assigning the boiler consumption(HFO/MDO) to local variables  \n",
        "  if c2 == 0 and row['Key'] == 'Boiler':\n",
        "    Idle_blr_HFO = row['Value_2']\n",
        "    Idle_blr_MDO = row['Value_3']\n",
        "    c2 = 1\n",
        "    continue\n",
        "  # Assigning the Inert gas generator consumption(HFO/MDO) to local variables    \n",
        "  if c3 == 0 and row['Key'] == 'Inertgas generator':\n",
        "    Idle_inr_HFO = row['Value_2']\n",
        "    Idle_inr_MDO = row['Value_3']\n",
        "    c3 = 1\n",
        "    continue\n",
        "  \n",
        "  \n",
        "  # Checking the fuel consumption at Loading\n",
        "  if 'Loading' in str(row['Key']):\n",
        "    continue \n",
        "  # Assigning the auxillary consumption(HFO/MDO) to local variables  \n",
        "  if c4 == 0 and row['Key'] == 'Auxillary Engine':  \n",
        "    Load_aux_HFO = row['Value_2']\n",
        "    Load_aux_MDO = row['Value_3']\n",
        "    c4 = 1\n",
        "    continue\n",
        "  # Assigning the boiler consumption(HFO/MDO) to local variables  \n",
        "  if c5 == 0 and row['Key'] == 'Boiler':\n",
        "    Load_blr_HFO = row['Value_2']\n",
        "    Load_blr_MDO = row['Value_3']\n",
        "    c5 = 1\n",
        "    continue\n",
        "  # Assigning the Inert gas generator consumption(HFO/MDO) to local variables  \n",
        "  if c6 == 0 and row['Key'] == 'Inertgas generator':\n",
        "    Load_inr_HFO = row['Value_2']\n",
        "    Load_inr_MDO = row['Value_3']\n",
        "    c6 = 1 \n",
        "    \n",
        "  \n",
        "  # Checking the fuel consumption at Discharge\n",
        "  if 'Discharge' in str(row['Key']):\n",
        "    continue \n",
        "  # Assigning the auxillary consumption(HFO/MDO) to local variables  \n",
        "  if c7 == 0 and row['Key'] == 'Auxillary Engine':  \n",
        "    Disc_aux_HFO = row['Value_2']\n",
        "    Disc_aux_MDO = row['Value_3']\n",
        "    c7 = 1\n",
        "    continue\n",
        "  # Assigning the boiler consumption(HFO/MDO) to local variables  \n",
        "  if c8 == 0 and row['Key'] == 'Boiler':\n",
        "    Disc_blr_HFO = row['Value_2']\n",
        "    Disc_blr_MDO = row['Value_3']\n",
        "    c8 = 1\n",
        "    continue\n",
        "  # Assigning the Inert gas generator consumption(HFO/MDO) to local variables  \n",
        "  if c9 == 0 and row['Key'] == 'Inertgas generator':\n",
        "    Disc_inr_HFO = row['Value_2']\n",
        "    Disc_inr_MDO = row['Value_3']\n",
        "    c9 = 1 \n",
        "  \n",
        "  # Skipping the unwanted consumptions\n",
        "  if 'Hot' not in str(row['Key']) and c10 == 0:\n",
        "    continue\n",
        "  \n",
        "  \n",
        "  # Checking the fuel consumption at Hot Wash\n",
        "  if 'Hot' in str(row['Key']):\n",
        "    c10 = 1\n",
        "    continue \n",
        "  # Assigning the auxillary consumption(HFO/MDO) to local variables  \n",
        "  if c11 == 0 and row['Key'] == 'Auxillary Engine':  \n",
        "    Hot_aux_HFO = row['Value_2']\n",
        "    Hot_aux_MDO = row['Value_3']\n",
        "    c11 = 1\n",
        "    continue\n",
        "  # Assigning the boiler consumption(HFO/MDO) to local variables  \n",
        "  if c12 == 0 and row['Key'] == 'Boiler':\n",
        "    Hot_blr_HFO = row['Value_2']\n",
        "    Hot_blr_MDO = row['Value_3']\n",
        "    c12 = 1\n",
        "    continue\n",
        "  # Assigning the Inert gas generator consumption(HFO/MDO) to local variables  \n",
        "  if c13 == 0 and row['Key'] == 'Inertgas generator':\n",
        "    Hot_inr_HFO = row['Value_2']\n",
        "    Hot_inr_MDO = row['Value_3']\n",
        "    c13 = 1       \n",
        "  \n",
        "  # Checking the fuel consumption at Cold Wash\n",
        "  if 'cold' in str(row['Key']):\n",
        "    continue \n",
        "  # Assigning the auxillary consumption(HFO/MDO) to local variables  \n",
        "  if c14 == 0 and row['Key'] == 'Auxillary Engine':  \n",
        "    Cold_aux_HFO = row['Value_2']\n",
        "    Cold_aux_MDO = row['Value_3']\n",
        "    c14 = 1\n",
        "    continue\n",
        "  # Assigning the auxillary consumption(HFO/MDO) to local variables  \n",
        "  if c15 == 0 and row['Key'] == 'Boiler':\n",
        "    Cold_blr_HFO = row['Value_2']\n",
        "    Cold_blr_MDO = row['Value_3']\n",
        "    c15 = 1\n",
        "    continue\n",
        "  # Assigning the Inert gas generator consumption(HFO/MDO) to local variables  \n",
        "  if c16 == 0 and row['Key'] == 'Inertgas generator':\n",
        "    Cold_inr_HFO = row['Value_2']\n",
        "    Cold_inr_MDO = row['Value_3']\n",
        "    c16 = 1     \n",
        "  break  "
      ],
      "execution_count": 0,
      "outputs": []
    },
    {
      "cell_type": "code",
      "metadata": {
        "id": "TqrZnPiH755H",
        "colab_type": "code",
        "colab": {}
      },
      "source": [
        "static_final_df = pd.DataFrame(columns=['Vessel', 'Equipment', 'Type', 'Idle', 'Loading', 'Discharge', 'Hot', 'Cold'])"
      ],
      "execution_count": 0,
      "outputs": []
    },
    {
      "cell_type": "code",
      "metadata": {
        "id": "8lyOTvVsukyL",
        "colab_type": "code",
        "colab": {
          "base_uri": "https://localhost:8080/",
          "height": 47
        },
        "outputId": "1a47ec33-7909-464f-bb7d-a57733cf721e"
      },
      "source": [
        "#Clearing all the data from the dataframe\n",
        "static_final_df.iloc[0:0]"
      ],
      "execution_count": 73,
      "outputs": [
        {
          "output_type": "execute_result",
          "data": {
            "text/html": [
              "<div>\n",
              "<style scoped>\n",
              "    .dataframe tbody tr th:only-of-type {\n",
              "        vertical-align: middle;\n",
              "    }\n",
              "\n",
              "    .dataframe tbody tr th {\n",
              "        vertical-align: top;\n",
              "    }\n",
              "\n",
              "    .dataframe thead th {\n",
              "        text-align: right;\n",
              "    }\n",
              "</style>\n",
              "<table border=\"1\" class=\"dataframe\">\n",
              "  <thead>\n",
              "    <tr style=\"text-align: right;\">\n",
              "      <th></th>\n",
              "      <th>Vessel</th>\n",
              "      <th>Equipment</th>\n",
              "      <th>Type</th>\n",
              "      <th>Idle</th>\n",
              "      <th>Loading</th>\n",
              "      <th>Discharge</th>\n",
              "      <th>Hot</th>\n",
              "      <th>Cold</th>\n",
              "    </tr>\n",
              "  </thead>\n",
              "  <tbody>\n",
              "  </tbody>\n",
              "</table>\n",
              "</div>"
            ],
            "text/plain": [
              "Empty DataFrame\n",
              "Columns: [Vessel, Equipment, Type, Idle, Loading, Discharge, Hot, Cold]\n",
              "Index: []"
            ]
          },
          "metadata": {
            "tags": []
          },
          "execution_count": 73
        }
      ]
    },
    {
      "cell_type": "code",
      "metadata": {
        "id": "VVyJvQfMu5XJ",
        "colab_type": "code",
        "colab": {}
      },
      "source": [
        "#Appending the data extracted from the excel sheet to a dataframe:\n",
        "static_final_df.loc[0] = ({'Vessel':vessel_name, 'Equipment':'Auxillary Engine', 'Type':'HFO', 'Idle':Idle_aux_HFO, 'Loading':Load_aux_HFO, 'Discharge':Disc_aux_HFO, 'Hot':Hot_aux_HFO, 'Cold':Cold_aux_HFO})\n",
        "static_final_df.loc[1] = ({'Vessel':vessel_name, 'Equipment':'Auxillary Engine', 'Type':'MDO', 'Idle':Idle_aux_MDO, 'Loading':Load_aux_MDO, 'Discharge':Disc_aux_MDO, 'Hot':Hot_aux_MDO, 'Cold':Cold_aux_MDO})\n",
        "static_final_df.loc[2] = ({'Vessel':vessel_name, 'Equipment':'Boiler', 'Type':'HFO', 'Idle':Idle_blr_HFO, 'Loading':Load_blr_HFO, 'Discharge':Disc_blr_HFO, 'Hot':Hot_blr_HFO, 'Cold':Cold_blr_HFO})\n",
        "static_final_df.loc[3] = ({'Vessel':vessel_name, 'Equipment':'Boiler', 'Type':'MDO', 'Idle':Idle_blr_MDO, 'Loading':Load_blr_MDO, 'Discharge':Disc_blr_MDO, 'Hot':Hot_blr_MDO, 'Cold':Cold_blr_MDO})\n",
        "static_final_df.loc[4] = ({'Vessel':vessel_name, 'Equipment':'Inertgas generator', 'Type':'HFO', 'Idle':Idle_inr_HFO, 'Loading':Load_inr_HFO, 'Discharge':Disc_inr_HFO, 'Hot':Hot_inr_HFO, 'Cold':Cold_inr_HFO})\n",
        "static_final_df.loc[5] = ({'Vessel':vessel_name, 'Equipment':'Inertgas generator', 'Type':'MDO', 'Idle':Idle_inr_MDO, 'Loading':Load_inr_MDO, 'Discharge':Disc_inr_MDO, 'Hot':Hot_inr_MDO, 'Cold':Cold_inr_MDO})"
      ],
      "execution_count": 0,
      "outputs": []
    },
    {
      "cell_type": "code",
      "metadata": {
        "id": "fhSip8Piwisw",
        "colab_type": "code",
        "colab": {
          "base_uri": "https://localhost:8080/",
          "height": 141
        },
        "outputId": "afd8f401-97d1-44b0-b94d-393710ad3318"
      },
      "source": [
        "# Printing the dataframe\n",
        "print(static_final_df)"
      ],
      "execution_count": 98,
      "outputs": [
        {
          "output_type": "stream",
          "text": [
            "        Vessel           Equipment Type Idle Loading Discharge  Hot Cold\n",
            "0  Bro Atland     Auxillary Engine  HFO    0       0         0    0    0\n",
            "1  Bro Atland     Auxillary Engine  MDO  1.4     2.2       4.2  2.2  2.2\n",
            "2  Bro Atland               Boiler  HFO    0       0         0    0    0\n",
            "3  Bro Atland               Boiler  MDO  0.5     0.5       0.5  2.2  0.5\n",
            "4  Bro Atland   Inertgas generator  HFO    0       0         0  NaN  NaN\n",
            "5  Bro Atland   Inertgas generator  MDO  NaN     NaN       NaN  NaN  NaN\n"
          ],
          "name": "stdout"
        }
      ]
    }
  ]
}